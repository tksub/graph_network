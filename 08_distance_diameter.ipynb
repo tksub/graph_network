{
 "cells": [
  {
   "cell_type": "markdown",
   "metadata": {},
   "source": [
    "# Distance and Diameter of graph netweork"
   ]
  },
  {
   "cell_type": "code",
   "execution_count": 12,
   "metadata": {},
   "outputs": [],
   "source": [
    "import matplotlib.pyplot as plt\n",
    "import networkx as nx\n",
    "import numpy as np"
   ]
  },
  {
   "cell_type": "code",
   "execution_count": 13,
   "metadata": {},
   "outputs": [
    {
     "data": {
      "image/png": "[encoded data removed]",
      "text/plain": [
       "<Figure size 432x288 with 1 Axes>"
      ]
     },
     "metadata": {},
     "output_type": "display_data"
    }
   ],
   "source": [
    "# Generate an example\n",
    "G = nx.Graph([(1, 2), (1, 3), (1, 4), (1, 5), (3, 4), (4, 5), (4, 6), (5, 6)])\n",
    "nx.draw(G, with_labels=True)"
   ]
  },
  {
   "cell_type": "markdown",
   "metadata": {},
   "source": [
    "## Get a distance (shortest path length)"
   ]
  },
  {
   "cell_type": "code",
   "execution_count": 14,
   "metadata": {},
   "outputs": [
    {
     "name": "stdout",
     "output_type": "stream",
     "text": [
      "1\n",
      "2\n"
     ]
    }
   ],
   "source": [
    "print(nx.shortest_path_length(G, 1, 2))\n",
    "print(nx.shortest_path_length(G, 3, 6))"
   ]
  },
  {
   "cell_type": "markdown",
   "metadata": {},
   "source": [
    "## Get shortest paths"
   ]
  },
  {
   "cell_type": "code",
   "execution_count": 15,
   "metadata": {},
   "outputs": [
    {
     "name": "stdout",
     "output_type": "stream",
     "text": [
      "shortest path between nodes 1 and 2 =  [1, 2]\n",
      "shortest path between nodes 2 and 6 =  [2, 1, 4, 6]\n",
      "All shortest paths between nodes 3 and 6 =  [[2, 1, 4, 6], [2, 1, 5, 6]]\n"
     ]
    }
   ],
   "source": [
    "print('shortest path between nodes 1 and 2 = ', nx.shortest_path(G, 1, 2))\n",
    "print('shortest path between nodes 2 and 6 = ', nx.shortest_path(G, 2, 6))\n",
    "print('All shortest paths between nodes 3 and 6 = ', [path for path in nx.all_shortest_paths(G, 2, 6)])"
   ]
  },
  {
   "cell_type": "markdown",
   "metadata": {},
   "source": [
    "## Average distance and diameter"
   ]
  },
  {
   "cell_type": "code",
   "execution_count": 18,
   "metadata": {},
   "outputs": [
    {
     "name": "stdout",
     "output_type": "stream",
     "text": [
      "Average shortest path distance, L =  1.5333333333333334\n",
      "Diameter, D =  3\n"
     ]
    }
   ],
   "source": [
    "print('Average shortest path distance, L = ', nx.average_shortest_path_length(G))\n",
    "print('Diameter, D = ', nx.diameter(G))"
   ]
  }
 ],
 "metadata": {
  "interpreter": {
   "hash": "aee8b7b246df8f9039afb4144a1f6fd8d2ca17a180786b69acc140d282b71a49"
  },
  "kernelspec": {
   "display_name": "Python 3.9.10 64-bit",
   "language": "python",
   "name": "python3"
  },
  "language_info": {
   "codemirror_mode": {
    "name": "ipython",
    "version": 3
   },
   "file_extension": ".py",
   "mimetype": "text/x-python",
   "name": "python",
   "nbconvert_exporter": "python",
   "pygments_lexer": "ipython3",
   "version": "3.9.10"
  },
  "orig_nbformat": 4
 },
 "nbformat": 4,
 "nbformat_minor": 2
}
