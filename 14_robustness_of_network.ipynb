{
 "cells": [
  {
   "cell_type": "markdown",
   "metadata": {},
   "source": [
    "# Robustness of networks\n",
    "\n",
    "https://doi.org/10.1038/35019019"
   ]
  },
  {
   "cell_type": "code",
   "execution_count": 23,
   "metadata": {},
   "outputs": [],
   "source": [
    "import matplotlib.pyplot as plt\n",
    "import networkx as nx\n",
    "import numpy as np"
   ]
  },
  {
   "cell_type": "code",
   "execution_count": 24,
   "metadata": {},
   "outputs": [],
   "source": [
    "N = 500 \n",
    "k = 4\n",
    "E = N * k / 2\n",
    "\n",
    "x = [[], [], [], []]\n",
    "y = [[], [], [], []]"
   ]
  },
  {
   "cell_type": "code",
   "execution_count": 25,
   "metadata": {},
   "outputs": [],
   "source": [
    "# attach\n",
    "def remove_node_by_attack(G):\n",
    "    mx_n = -1 \n",
    "    mx_d = -1\n",
    "\n",
    "    # shuffle when there are several nodes with maximum degree\n",
    "    ns = list(G.nodes())\n",
    "    np.random.shuffle(ns)\n",
    "\n",
    "    for n in ns:\n",
    "        d = len(list(G.neighbors(n)))\n",
    "\n",
    "        if d > mx_d: \n",
    "            mx_n = n\n",
    "            mx_d = d\n",
    "    \n",
    "    G.remove_node(mx_n)"
   ]
  },
  {
   "cell_type": "code",
   "execution_count": 26,
   "metadata": {},
   "outputs": [],
   "source": [
    "# failure\n",
    "def remove_node_by_error(G):\n",
    "    G.remove_node(np.random.choice(G.node()))"
   ]
  },
  {
   "cell_type": "code",
   "execution_count": 27,
   "metadata": {},
   "outputs": [],
   "source": [
    "# Maximum cluster size\n",
    "def max_cluster(G):\n",
    "    largest_cc = max(nx.connected_components(G), key=len)\n",
    "    max_cluster = G.subgraph(largest_cc).copy\n",
    "\n",
    "    return max_cluster"
   ]
  },
  {
   "cell_type": "code",
   "execution_count": 28,
   "metadata": {},
   "outputs": [],
   "source": [
    "# Get node index of maximum cluster size\n",
    "def get_SMC(G):\n",
    "    mc = max_cluster(G)\n",
    "    \n",
    "    return len(mc)"
   ]
  },
  {
   "cell_type": "code",
   "execution_count": 29,
   "metadata": {},
   "outputs": [
    {
     "name": "stdout",
     "output_type": "stream",
     "text": [
      "ES average degree 4.052\n",
      "SF average degree 3.984\n"
     ]
    }
   ],
   "source": [
    "G1 = nx.erdos_renyi_graph(N, k/(N-1))\n",
    "G2 = nx.Graph.copy(G1) # ER\n",
    "G3 = nx.barabasi_albert_graph(N, int(k/2))\n",
    "G4 = nx.Graph.copy(G3) # SF\n",
    "\n",
    "print('ES average degree', nx.number_of_edges(G1) * 2 / N)\n",
    "print('SF average degree', nx.number_of_edges(G3) * 2 / N)"
   ]
  },
  {
   "cell_type": "code",
   "execution_count": 30,
   "metadata": {},
   "outputs": [
    {
     "ename": "AttributeError",
     "evalue": "'function' object has no attribute 'order'",
     "output_type": "error",
     "traceback": [
      "\u001b[0;31m---------------------------------------------------------------------------\u001b[0m",
      "\u001b[0;31mAttributeError\u001b[0m                            Traceback (most recent call last)",
      "Input \u001b[0;32mIn [30]\u001b[0m, in \u001b[0;36m<module>\u001b[0;34m\u001b[0m\n\u001b[1;32m      2\u001b[0m \u001b[38;5;28;01mwhile\u001b[39;00m del_num \u001b[38;5;241m/\u001b[39m N \u001b[38;5;241m<\u001b[39m\u001b[38;5;241m=\u001b[39m \u001b[38;5;241m0.05\u001b[39m:\n\u001b[1;32m      3\u001b[0m     mc_failure \u001b[38;5;241m=\u001b[39m max_cluster(G1)\n\u001b[0;32m----> 4\u001b[0m     y[\u001b[38;5;241m0\u001b[39m]\u001b[38;5;241m.\u001b[39mappend(\u001b[43mnx\u001b[49m\u001b[38;5;241;43m.\u001b[39;49m\u001b[43mdiameter\u001b[49m\u001b[43m(\u001b[49m\u001b[43mmc_failure\u001b[49m\u001b[43m)\u001b[49m)\n\u001b[1;32m      5\u001b[0m     x[\u001b[38;5;241m0\u001b[39m]\u001b[38;5;241m.\u001b[39mappend(del_num \u001b[38;5;241m/\u001b[39m N)\n\u001b[1;32m      6\u001b[0m     remove_node_by_error(G1)\n",
      "File \u001b[0;32m/usr/local/lib/python3.9/site-packages/networkx/algorithms/distance_measures.py:299\u001b[0m, in \u001b[0;36mdiameter\u001b[0;34m(G, e, usebounds)\u001b[0m\n\u001b[1;32m    297\u001b[0m     \u001b[38;5;28;01mreturn\u001b[39;00m extrema_bounding(G, compute\u001b[38;5;241m=\u001b[39m\u001b[38;5;124m\"\u001b[39m\u001b[38;5;124mdiameter\u001b[39m\u001b[38;5;124m\"\u001b[39m)\n\u001b[1;32m    298\u001b[0m \u001b[38;5;28;01mif\u001b[39;00m e \u001b[38;5;129;01mis\u001b[39;00m \u001b[38;5;28;01mNone\u001b[39;00m:\n\u001b[0;32m--> 299\u001b[0m     e \u001b[38;5;241m=\u001b[39m \u001b[43meccentricity\u001b[49m\u001b[43m(\u001b[49m\u001b[43mG\u001b[49m\u001b[43m)\u001b[49m\n\u001b[1;32m    300\u001b[0m \u001b[38;5;28;01mreturn\u001b[39;00m \u001b[38;5;28mmax\u001b[39m(e\u001b[38;5;241m.\u001b[39mvalues())\n",
      "File \u001b[0;32m/usr/local/lib/python3.9/site-packages/networkx/algorithms/distance_measures.py:243\u001b[0m, in \u001b[0;36meccentricity\u001b[0;34m(G, v, sp)\u001b[0m\n\u001b[1;32m    216\u001b[0m \u001b[38;5;124;03m\"\"\"Returns the eccentricity of nodes in G.\u001b[39;00m\n\u001b[1;32m    217\u001b[0m \n\u001b[1;32m    218\u001b[0m \u001b[38;5;124;03mThe eccentricity of a node v is the maximum distance from v to\u001b[39;00m\n\u001b[0;32m   (...)\u001b[0m\n\u001b[1;32m    235\u001b[0m \u001b[38;5;124;03m   A dictionary of eccentricity values keyed by node.\u001b[39;00m\n\u001b[1;32m    236\u001b[0m \u001b[38;5;124;03m\"\"\"\u001b[39;00m\n\u001b[1;32m    237\u001b[0m \u001b[38;5;66;03m#    if v is None:                # none, use entire graph\u001b[39;00m\n\u001b[1;32m    238\u001b[0m \u001b[38;5;66;03m#        nodes=G.nodes()\u001b[39;00m\n\u001b[1;32m    239\u001b[0m \u001b[38;5;66;03m#    elif v in G:               # is v a single node\u001b[39;00m\n\u001b[1;32m    240\u001b[0m \u001b[38;5;66;03m#        nodes=[v]\u001b[39;00m\n\u001b[1;32m    241\u001b[0m \u001b[38;5;66;03m#    else:                      # assume v is a container of nodes\u001b[39;00m\n\u001b[1;32m    242\u001b[0m \u001b[38;5;66;03m#        nodes=v\u001b[39;00m\n\u001b[0;32m--> 243\u001b[0m order \u001b[38;5;241m=\u001b[39m \u001b[43mG\u001b[49m\u001b[38;5;241;43m.\u001b[39;49m\u001b[43morder\u001b[49m()\n\u001b[1;32m    245\u001b[0m e \u001b[38;5;241m=\u001b[39m {}\n\u001b[1;32m    246\u001b[0m \u001b[38;5;28;01mfor\u001b[39;00m n \u001b[38;5;129;01min\u001b[39;00m G\u001b[38;5;241m.\u001b[39mnbunch_iter(v):\n",
      "\u001b[0;31mAttributeError\u001b[0m: 'function' object has no attribute 'order'"
     ]
    }
   ],
   "source": [
    "del_num = 0\n",
    "while del_num / N <= 0.05:\n",
    "    mc_failure = max_cluster(G1)\n",
    "    y[0].append(nx.diameter(mc_failure))\n",
    "    x[0].append(del_num / N)\n",
    "    remove_node_by_error(G1)\n",
    "\n",
    "    mc_attack = max_cluster(G2)\n",
    "    y[1].append(nx.diameter(mc_attack))\n",
    "    x[1].append(del_num / N)\n",
    "    remove_node_by_attack(G2)\n",
    "\n",
    "    del_num += 1\n",
    "\n",
    "del_num = 0\n",
    "while del_num / N <= 0.05:\n",
    "    mc_failure = max_cluster(G3)\n",
    "    y[2].append(nx.diameter(mc_failure))\n",
    "    x[2].append(del_num / N)\n",
    "    remove_node_by_error(G3)\n",
    "\n",
    "    mc_attack = max_cluster(G4)\n",
    "    y[3].append(nx.diameter(mc_attack))\n",
    "    x[3].append(del_num / N)\n",
    "    remove_node_by_attack(G4)\n",
    "\n",
    "    del_num += 1    "
   ]
  },
  {
   "cell_type": "code",
   "execution_count": null,
   "metadata": {},
   "outputs": [],
   "source": [
    "plt.figure()\n",
    "plt.xlabel('f')\n",
    "plt.ylabel('d')\n",
    "plt.ylim(0, 15)\n",
    "plt.xlim((0, 0.05)\n",
    "plt.plot(x[0], y[0], label=\"E failure\", marker='^', color='blue')\n",
    "plt.plot(x[1], y[1], label=\"E attack\", marker='D', color='red')\n",
    "plt.plot(x[2], y[2], label=\"E failure\", marker='^', color='blue')\n",
    "plt.plot(x[3], y[3], label=\"E attack\", marker='D', color='red')\n",
    "\n",
    "plt.grid()\n",
    "plt.show()"
   ]
  }
 ],
 "metadata": {
  "interpreter": {
   "hash": "aee8b7b246df8f9039afb4144a1f6fd8d2ca17a180786b69acc140d282b71a49"
  },
  "kernelspec": {
   "display_name": "Python 3.9.10 64-bit",
   "language": "python",
   "name": "python3"
  },
  "language_info": {
   "codemirror_mode": {
    "name": "ipython",
    "version": 3
   },
   "file_extension": ".py",
   "mimetype": "text/x-python",
   "name": "python",
   "nbconvert_exporter": "python",
   "pygments_lexer": "ipython3",
   "version": "3.9.10"
  },
  "orig_nbformat": 4
 },
 "nbformat": 4,
 "nbformat_minor": 2
}
