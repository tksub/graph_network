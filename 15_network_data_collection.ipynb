{
 "cells": [
  {
   "cell_type": "markdown",
   "metadata": {},
   "source": [
    "# Data collection\n",
    "\n",
    "\n",
    "★Stanford Large Network Dataset Collection（SNAP）\n",
    "https://snap.stanford.edu/data/\n",
    "\n",
    "- Reference\n",
    "J. Leskovec, A. Krevl. SNAP Datasets: Stanford Large Network Dataset Collection, 2014.\n",
    "\n",
    "\n",
    "★Dynamic Face-to-Face Interaction Networks\n",
    "https://snap.stanford.edu/data/comm-f...\n",
    "\n",
    "- Reference\n",
    "C.Bai, S. Kumar, J. Leskovec, M. Metzger, J.F. Nunamaker, V.S. Subrahmanian. Predicting Visual Focus of Attention in Multi-person Discussion Videos. International Joint Conference on Artificial Intelligence (IJCAI), 2019."
   ]
  }
 ],
 "metadata": {
  "language_info": {
   "name": "python"
  },
  "orig_nbformat": 4
 },
 "nbformat": 4,
 "nbformat_minor": 2
}
